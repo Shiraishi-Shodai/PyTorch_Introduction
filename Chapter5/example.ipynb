{
 "cells": [
  {
   "cell_type": "markdown",
   "metadata": {},
   "source": [
    "# ディープラーニングの学習メカニズム"
   ]
  },
  {
   "cell_type": "markdown",
   "metadata": {},
   "source": [
    "## 学習とはパラメータ(バイアスや重み)の推定である"
   ]
  },
  {
   "cell_type": "markdown",
   "metadata": {},
   "source": [
    "### データの収集"
   ]
  },
  {
   "cell_type": "code",
   "execution_count": 2,
   "metadata": {},
   "outputs": [],
   "source": [
    "import torch\n",
    "\n",
    "t_c = [0.5,  14.0, 15.0, 28.0, 11.0,  8.0,  3.0, -4.0,  6.0, 13.0, 21.0]\n",
    "t_u = [35.7, 55.9, 58.2, 81.9, 56.3, 48.9, 33.9, 21.8, 48.4, 60.4, 68.4]\n",
    "t_c = torch.tensor(t_c)\n",
    "t_u = torch.tensor(t_u)"
   ]
  },
  {
   "cell_type": "markdown",
   "metadata": {},
   "source": [
    "### データの可視化"
   ]
  },
  {
   "cell_type": "code",
   "execution_count": 13,
   "metadata": {},
   "outputs": [
    {
     "data": {
      "image/png": "[encoded data removed]",
      "text/plain": [
       "<Figure size 640x480 with 1 Axes>"
      ]
     },
     "metadata": {},
     "output_type": "display_data"
    }
   ],
   "source": [
    "import matplotlib.pyplot as plt\n",
    "\n",
    "plt.scatter(t_c, t_u)\n",
    "plt.xlabel('Measured Value')\n",
    "plt.ylabel('Temperature')\n",
    "plt.show()"
   ]
  },
  {
   "cell_type": "markdown",
   "metadata": {},
   "source": [
    "## 損失関数\n",
    "* モデルの予測がどれだけ実際のデータから逸脱しているかを定量化する関数\n",
    "* 最小値は0\n",
    "* 訓練データから修正すべきパラメータの優先順位を決める\n",
    "\n",
    "### 凸関数\n",
    "損失関数の一種。カーブ上の任意の二点間の線分が関数のグラフ上に常にある関数"
   ]
  },
  {
   "cell_type": "markdown",
   "metadata": {},
   "source": [
    "#### 凸関数をグラフで表したもの\n"
   ]
  },
  {
   "cell_type": "markdown",
   "metadata": {},
   "source": [
    "![凸関数をグラフで表したもの](./output.png)"
   ]
  },
  {
   "cell_type": "markdown",
   "metadata": {},
   "source": [
    "### 線形モデルにおいて、モデルを評価する際に絶対値誤差より二乗誤差がよく使われる理由\n"
   ]
  },
  {
   "cell_type": "markdown",
   "metadata": {},
   "source": [
    "1. 計算が簡単:\n",
    "\n",
    "二乗誤差は計算が簡単です。数字を二乗するだけで、特に大きな誤差があるときに大きく重視されます。一方、絶対値を計算するのは少し面倒です。\n",
    "\n",
    "2. 外れ値に厳しい:\n",
    "\n",
    "二乗誤差は、外れ値（予測がかなり間違っているデータ点）に対して非常に厳しいペナルティを課します。これは、大きな間違いを重く見るためです。\n",
    "\n",
    "3. 数学的な都合:\n",
    "\n",
    "数学的には、二乗誤差の方が扱いやすいです。特に、最適化（モデルを良くすること）の際に、微分（変化の割合を計算すること）が簡単にできます。絶対値誤差は、特定の点で微分が難しいです。\n",
    "\n",
    "4. 統計的な理由:\n",
    "\n",
    "統計的には、二乗誤差はデータが普通に分布している（正規分布と呼ばれる）場合に良い結果を与えます。"
   ]
  },
  {
   "cell_type": "markdown",
   "metadata": {},
   "source": [
    "### PyTorchでの損失関数の扱い方"
   ]
  },
  {
   "cell_type": "code",
   "execution_count": 9,
   "metadata": {},
   "outputs": [],
   "source": [
    "def model(t_u, w, b):\n",
    "    return t_u * w + b"
   ]
  },
  {
   "cell_type": "code",
   "execution_count": 10,
   "metadata": {},
   "outputs": [],
   "source": [
    "def loss_f(t_p, t_c):\n",
    "    '''\n",
    "    平均二乗誤差\n",
    "    '''\n",
    "    squared_diffs = (t_p - t_c) **2\n",
    "    return squared_diffs.mean()"
   ]
  },
  {
   "cell_type": "code",
   "execution_count": 12,
   "metadata": {},
   "outputs": [
    {
     "name": "stdout",
     "output_type": "stream",
     "text": [
      "tensor(1763.8848)\n"
     ]
    }
   ],
   "source": [
    "# 予測\n",
    "w = torch.ones(())\n",
    "b = torch.zeros(())\n",
    "\n",
    "t_p = model(t_u, w, b)\n",
    "# print(t_p)\n",
    "\n",
    "# 損失の計算\n",
    "loss = loss_f(t_p, t_c)\n",
    "print(loss)"
   ]
  },
  {
   "cell_type": "markdown",
   "metadata": {},
   "source": [
    "## 勾配降下法\n",
    "各パラメータに対する損失の変化率を計算して損失が減少するようにパラメータを調節する"
   ]
  }
 ],
 "metadata": {
  "kernelspec": {
   "display_name": "Python 3",
   "language": "python",
   "name": "python3"
  },
  "language_info": {
   "codemirror_mode": {
    "name": "ipython",
    "version": 3
   },
   "file_extension": ".py",
   "mimetype": "text/x-python",
   "name": "python",
   "nbconvert_exporter": "python",
   "pygments_lexer": "ipython3",
   "version": "3.10.11"
  }
 },
 "nbformat": 4,
 "nbformat_minor": 2
}
