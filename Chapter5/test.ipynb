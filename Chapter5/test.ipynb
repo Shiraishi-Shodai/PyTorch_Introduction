{
 "cells": [
  {
   "cell_type": "markdown",
   "metadata": {},
   "source": [
    "## [1] モデルをw2 * t_u ** 2 + w1 * t_u + bとして再定義してください"
   ]
  },
  {
   "cell_type": "markdown",
   "metadata": {},
   "source": [
    "### （a）再定義を行うために、トレーニングループのどの部分を変更する必要がありますか？"
   ]
  },
  {
   "cell_type": "code",
   "execution_count": 72,
   "metadata": {},
   "outputs": [],
   "source": [
    "import torch\n",
    "\n",
    "\n",
    "t_c = [0.5,  14.0, 15.0, 28.0, 11.0,  8.0,  3.0, -4.0,  6.0, 13.0, 21.0]\n",
    "t_u = [35.7, 55.9, 58.2, 81.9, 56.3, 48.9, 33.9, 21.8, 48.4, 60.4, 68.4]\n",
    "t_c = torch.tensor(t_c)\n",
    "t_u = torch.tensor(t_u)\n",
    "t_un = t_u * 0.1\n",
    "\n",
    "params = torch.tensor([1.0, 0.0])"
   ]
  },
  {
   "cell_type": "code",
   "execution_count": 91,
   "metadata": {},
   "outputs": [],
   "source": [
    "def model(t_un, w, b):\n",
    "    return w * t_un + b\n",
    "\n",
    "def loss_fn(t_p, t_c):\n",
    "    squared_diffs = (t_p - t_c)**2\n",
    "    return squared_diffs.mean()\n",
    "\n",
    "def dloss_fn(t_p, t_c):\n",
    "    dsq_diffs = 2 * (t_p - t_c) / t_p.size(0)\n",
    "\n",
    "    return dsq_diffs\n",
    "\n",
    "def get_grad(t_un, t_p, w):\n",
    "    dloss_dtp = dloss_fn(t_p, t_c)\n",
    "    dloss_dw = dloss_dtp * t_un\n",
    "    dloss_db = dloss_dtp * 0.1\n",
    "    \n",
    "    return torch.stack([dloss_dw.sum(), dloss_db.sum()])"
   ]
  },
  {
   "cell_type": "code",
   "execution_count": 84,
   "metadata": {},
   "outputs": [],
   "source": [
    "def training_loop(n_epochs, t_un, t_c, params, learning_rate,\n",
    "                  print_params=True):\n",
    "    \n",
    "    for epoch in range(1, n_epochs + 1):\n",
    "        \n",
    "        w, b = params\n",
    "        t_p = model(t_un, w ,b)\n",
    "        loss = loss_fn(t_p, t_c)\n",
    "        \n",
    "        grad = get_grad(t_un, t_p, w)\n",
    "\n",
    "        params = params - grad * learning_rate\n",
    "        \n",
    "        if epoch in [1, 2, 3, 10, 100, 1000, 2000, 3000, 5000]:\n",
    "            print(f'Epoch {epoch}, Loss {float(loss)}')\n",
    "            if print_params:\n",
    "                print('    Params:', params)\n",
    "                print('    Grad:  ', grad)\n",
    "        \n",
    "        if not torch.isfinite(loss).all():\n",
    "            break  # <3>\n",
    "    "
   ]
  },
  {
   "cell_type": "code",
   "execution_count": 92,
   "metadata": {},
   "outputs": [
    {
     "name": "stdout",
     "output_type": "stream",
     "text": [
      "tensor([  6.1400, -16.8200, -18.3600, -39.6200, -10.7400,  -6.2200,   0.7800,\n",
      "         12.3600,  -2.3200, -13.9200, -28.3200])\n",
      "11\n",
      "tensor([ 0.5582, -1.5291, -1.6691, -3.6018, -0.9764, -0.5655,  0.0709,  1.1236,\n",
      "        -0.2109, -1.2655, -2.5745])\n",
      "tensor(-10.6400)\n",
      "tensor([-77.6140,  -1.0640])\n",
      "Epoch 1, Loss 80.36434173583984\n",
      "    Params: tensor([1.7761, 0.0106])\n",
      "    Grad:   tensor([-77.6140,  -1.0640])\n"
     ]
    }
   ],
   "source": [
    "training_loop(n_epochs = 1,\n",
    "              t_un = t_un,\n",
    "              t_c = t_c,\n",
    "              params = params,\n",
    "              learning_rate = 1e-2,\n",
    "              print_params=True)"
   ]
  }
 ],
 "metadata": {
  "kernelspec": {
   "display_name": "Python 3",
   "language": "python",
   "name": "python3"
  },
  "language_info": {
   "codemirror_mode": {
    "name": "ipython",
    "version": 3
   },
   "file_extension": ".py",
   "mimetype": "text/x-python",
   "name": "python",
   "nbconvert_exporter": "python",
   "pygments_lexer": "ipython3",
   "version": "3.10.11"
  }
 },
 "nbformat": 4,
 "nbformat_minor": 2
}
